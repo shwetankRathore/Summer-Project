{
 "cells": [
  {
   "cell_type": "code",
   "execution_count": 1,
   "metadata": {},
   "outputs": [],
   "source": [
    "import torch"
   ]
  },
  {
   "cell_type": "code",
   "execution_count": 2,
   "metadata": {},
   "outputs": [],
   "source": [
    "def activation(x):\n",
    "    return 1 / (1 + torch.exp(-x))"
   ]
  },
  {
   "cell_type": "code",
   "execution_count": 3,
   "metadata": {},
   "outputs": [],
   "source": [
    "torch.manual_seed(10)\n",
    "features = torch.randn(1,5)\n",
    "weights = torch.rand_like(features)\n",
    "bias = torch.randn(1,1)"
   ]
  },
  {
   "cell_type": "code",
   "execution_count": 7,
   "metadata": {},
   "outputs": [
    {
     "data": {
      "text/plain": [
       "tensor([[0.7041],\n",
       "        [0.5573],\n",
       "        [0.6959],\n",
       "        [0.9849],\n",
       "        [0.2924]])"
      ]
     },
     "execution_count": 7,
     "metadata": {},
     "output_type": "execute_result"
    }
   ],
   "source": [
    "weights.resize_(5,1)"
   ]
  },
  {
   "cell_type": "code",
   "execution_count": 9,
   "metadata": {},
   "outputs": [
    {
     "data": {
      "text/plain": [
       "tensor([[0.0768]])"
      ]
     },
     "execution_count": 9,
     "metadata": {},
     "output_type": "execute_result"
    }
   ],
   "source": [
    "activation(torch.matmul(features, weights.resize(5,1)) + bias)"
   ]
  },
  {
   "cell_type": "code",
   "execution_count": 43,
   "metadata": {},
   "outputs": [],
   "source": [
    "#generate some data\n",
    "torch.manual_seed(7)\n",
    "\n",
    "\n",
    "#features are 3 RV\n",
    "features = torch.randn(1,3)\n",
    "\n",
    "#define the size of each layer in our network\n",
    "n_input = features.shape[1]\n",
    "n_hidden = 2\n",
    "n_output = 1\n",
    "\n",
    "# Weights for inputs to hidden layer\n",
    "w1 = torch.randn(n_input, n_hidden)\n",
    "\n",
    "# Weights for hidden layer to output layer\n",
    "w2 = torch.randn(n_hidden, n_output)\n",
    "\n",
    "# and bias terms for hidden and output layers\n",
    "b1 = torch.randn(1,n_hidden)\n",
    "b2 = torch.randn(1,n_output)"
   ]
  },
  {
   "cell_type": "code",
   "execution_count": 46,
   "metadata": {},
   "outputs": [
    {
     "data": {
      "text/plain": [
       "tensor([[0.3171]])"
      ]
     },
     "execution_count": 46,
     "metadata": {},
     "output_type": "execute_result"
    }
   ],
   "source": [
    "h1 = activation(torch.matmul(features, w1[:,0].resize(3,1)) + b1[:,0])\n",
    "h2 = activation(torch.matmul(features, w1[:,1].resize(3,1)) + b1[:,1])\n",
    "\n",
    "h = torch.cat((h1, h2),1)\n",
    "\n",
    "out = activation(torch.matmul(h, w2) + b2)\n",
    "out"
   ]
  },
  {
   "cell_type": "code",
   "execution_count": 47,
   "metadata": {},
   "outputs": [
    {
     "data": {
      "text/plain": [
       "array([[0.05209446, 0.1656795 , 0.19808654],\n",
       "       [0.02628809, 0.95959754, 0.90346633],\n",
       "       [0.69514908, 0.97074867, 0.63619071],\n",
       "       [0.6712695 , 0.85583705, 0.81088896]])"
      ]
     },
     "execution_count": 47,
     "metadata": {},
     "output_type": "execute_result"
    }
   ],
   "source": [
    "import numpy as np\n",
    "a = np.random.rand(4,3)\n",
    "a"
   ]
  },
  {
   "cell_type": "code",
   "execution_count": 48,
   "metadata": {},
   "outputs": [
    {
     "data": {
      "text/plain": [
       "tensor([[0.0521, 0.1657, 0.1981],\n",
       "        [0.0263, 0.9596, 0.9035],\n",
       "        [0.6951, 0.9707, 0.6362],\n",
       "        [0.6713, 0.8558, 0.8109]], dtype=torch.float64)"
      ]
     },
     "execution_count": 48,
     "metadata": {},
     "output_type": "execute_result"
    }
   ],
   "source": [
    "b = torch.from_numpy(a)\n",
    "b"
   ]
  },
  {
   "cell_type": "code",
   "execution_count": 49,
   "metadata": {},
   "outputs": [
    {
     "data": {
      "text/plain": [
       "array([[0.05209446, 0.1656795 , 0.19808654],\n",
       "       [0.02628809, 0.95959754, 0.90346633],\n",
       "       [0.69514908, 0.97074867, 0.63619071],\n",
       "       [0.6712695 , 0.85583705, 0.81088896]])"
      ]
     },
     "execution_count": 49,
     "metadata": {},
     "output_type": "execute_result"
    }
   ],
   "source": [
    "b.numpy()"
   ]
  },
  {
   "cell_type": "code",
   "execution_count": 50,
   "metadata": {},
   "outputs": [
    {
     "data": {
      "text/plain": [
       "tensor([[0.1042, 0.3314, 0.3962],\n",
       "        [0.0526, 1.9192, 1.8069],\n",
       "        [1.3903, 1.9415, 1.2724],\n",
       "        [1.3425, 1.7117, 1.6218]], dtype=torch.float64)"
      ]
     },
     "execution_count": 50,
     "metadata": {},
     "output_type": "execute_result"
    }
   ],
   "source": [
    "# Multiply PyTorch Tensor by 2, in place\n",
    "b.mul_(2)"
   ]
  },
  {
   "cell_type": "code",
   "execution_count": 51,
   "metadata": {},
   "outputs": [
    {
     "data": {
      "text/plain": [
       "array([[0.10418891, 0.331359  , 0.39617308],\n",
       "       [0.05257618, 1.91919509, 1.80693266],\n",
       "       [1.39029816, 1.94149733, 1.27238141],\n",
       "       [1.342539  , 1.71167409, 1.62177792]])"
      ]
     },
     "execution_count": 51,
     "metadata": {},
     "output_type": "execute_result"
    }
   ],
   "source": [
    "# Numpy array matches new values from Tensor\n",
    "a"
   ]
  },
  {
   "cell_type": "code",
   "execution_count": null,
   "metadata": {},
   "outputs": [],
   "source": []
  }
 ],
 "metadata": {
  "kernelspec": {
   "display_name": "Python 3",
   "language": "python",
   "name": "python3"
  },
  "language_info": {
   "codemirror_mode": {
    "name": "ipython",
    "version": 3
   },
   "file_extension": ".py",
   "mimetype": "text/x-python",
   "name": "python",
   "nbconvert_exporter": "python",
   "pygments_lexer": "ipython3",
   "version": "3.8.5"
  }
 },
 "nbformat": 4,
 "nbformat_minor": 4
}
